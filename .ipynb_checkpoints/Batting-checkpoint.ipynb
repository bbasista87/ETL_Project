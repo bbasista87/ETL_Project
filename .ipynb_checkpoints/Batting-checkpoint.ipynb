{
 "cells": [
  {
   "cell_type": "code",
   "execution_count": 4,
   "metadata": {},
   "outputs": [],
   "source": [
    "import pandas as pd\n",
    "import os\n",
    "import csv\n",
    "import matplotlib"
   ]
  },
  {
   "cell_type": "code",
   "execution_count": 5,
   "metadata": {},
   "outputs": [],
   "source": [
    "file = \"Resources/Batting.csv\""
   ]
  },
  {
   "cell_type": "code",
   "execution_count": 7,
   "metadata": {},
   "outputs": [
    {
     "name": "stdout",
     "output_type": "stream",
     "text": [
      "         playerID  yearID  stint teamID lgID    G   AB   R    H  2B  ...   \\\n",
      "0       abercda01    1871      1    TRO  NaN    1    4   0    0   0  ...    \n",
      "1        addybo01    1871      1    RC1  NaN   25  118  30   32   6  ...    \n",
      "2       allisar01    1871      1    CL1  NaN   29  137  28   40   4  ...    \n",
      "3       allisdo01    1871      1    WS3  NaN   27  133  28   44  10  ...    \n",
      "4       ansonca01    1871      1    RC1  NaN   25  120  29   39  11  ...    \n",
      "5       armstbo01    1871      1    FW1  NaN   12   49   9   11   2  ...    \n",
      "6       barkeal01    1871      1    RC1  NaN    1    4   0    1   0  ...    \n",
      "7       barnero01    1871      1    BS1  NaN   31  157  66   63  10  ...    \n",
      "8       barrebi01    1871      1    FW1  NaN    1    5   1    1   1  ...    \n",
      "9       barrofr01    1871      1    BS1  NaN   18   86  13   13   2  ...    \n",
      "10       bassjo01    1871      1    CL1  NaN   22   89  18   27   1  ...    \n",
      "11      battijo01    1871      1    CL1  NaN    1    3   0    0   0  ...    \n",
      "12      bealsto01    1871      1    WS3  NaN   10   36   6    7   0  ...    \n",
      "13      beaveed01    1871      1    TRO  NaN    3   15   7    6   0  ...    \n",
      "14      bechtge01    1871      1    PH1  NaN   20   94  24   33   9  ...    \n",
      "15      bellast01    1871      1    TRO  NaN   29  128  26   32   3  ...    \n",
      "16      berkena01    1871      1    PH1  NaN    1    4   0    0   0  ...    \n",
      "17      berryto01    1871      1    PH1  NaN    1    4   0    1   0  ...    \n",
      "18      berthha01    1871      1    WS3  NaN   17   73  17   17   1  ...    \n",
      "19      biermch01    1871      1    FW1  NaN    1    2   0    0   0  ...    \n",
      "20       birdge01    1871      1    RC1  NaN   25  106  19   28   2  ...    \n",
      "21      birdsda01    1871      1    BS1  NaN   29  152  51   46   3  ...    \n",
      "22      brainas01    1871      1    WS3  NaN   30  134  24   30   4  ...    \n",
      "23      brannmi01    1871      1    CH1  NaN    3   14   2    1   0  ...    \n",
      "24      burrohe01    1871      1    WS3  NaN   12   63  11   15   2  ...    \n",
      "25      careyto01    1871      1    FW1  NaN   19   87  16   20   2  ...    \n",
      "26      carleji01    1871      1    CL1  NaN   29  127  31   32   8  ...    \n",
      "27       conefr01    1871      1    BS1  NaN   19   77  17   20   3  ...    \n",
      "28      connone01    1871      1    TRO  NaN    7   33   6    7   0  ...    \n",
      "29      cravebi01    1871      1    TRO  NaN   27  118  26   38   8  ...    \n",
      "...           ...     ...    ...    ...  ...  ...  ...  ..  ...  ..  ...    \n",
      "102786  wittgni01    2016      1    MIA   NL   48    0   0    0   0  ...    \n",
      "102787  wolteto01    2016      1    COL   NL   71  205  27   53  15  ...    \n",
      "102788   wongko01    2016      1    SLN   NL  121  313  39   75   7  ...    \n",
      "102789   woodal02    2016      1    LAN   NL   15   16   2    4   0  ...    \n",
      "102790   woodbl01    2016      1    CIN   NL   70    2   0    0   0  ...    \n",
      "102791   woodtr01    2016      1    CHN   NL   81   11   0    2   0  ...    \n",
      "102792  worleva01    2016      1    BAL   AL   35    0   0    0   0  ...    \n",
      "102793  worthda01    2016      1    HOU   AL   16   39   4    7   2  ...    \n",
      "102794  wrighda03    2016      1    NYN   NL   37  137  18   31   8  ...    \n",
      "102795  wrighda04    2016      1    CIN   NL    4    5   0    0   0  ...    \n",
      "102796  wrighda04    2016      2    LAA   AL    5    0   0    0   0  ...    \n",
      "102797  wrighmi01    2016      1    BAL   AL   18    0   0    0   0  ...    \n",
      "102798  wrighst01    2016      1    BOS   AL   25    4   0    0   0  ...    \n",
      "102799  yateski01    2016      1    NYA   AL   41    0   0    0   0  ...    \n",
      "102800  yelicch01    2016      1    MIA   NL  155  578  78  172  38  ...    \n",
      "102801   ynoaga01    2016      1    NYN   NL   10    3   0    0   0  ...    \n",
      "102802   ynoami01    2016      1    CHA   AL   23    0   0    0   0  ...    \n",
      "102803   ynoara01    2016      1    COL   NL    3    5   0    0   0  ...    \n",
      "102804  youngch03    2016      1    KCA   AL   34    1   0    0   0  ...    \n",
      "102805  youngch04    2016      1    BOS   AL   76  203  29   56  18  ...    \n",
      "102806  younger03    2016      1    NYA   AL    6    1   2    0   0  ...    \n",
      "102807  youngma03    2016      1    ATL   NL    8    0   0    0   0  ...    \n",
      "102808  zastrro01    2016      1    CHN   NL    8    3   0    0   0  ...    \n",
      "102809  zieglbr01    2016      1    ARI   NL   36    0   0    0   0  ...    \n",
      "102810  zieglbr01    2016      2    BOS   AL   33    0   0    0   0  ...    \n",
      "102811  zimmejo02    2016      1    DET   AL   19    4   0    1   0  ...    \n",
      "102812  zimmery01    2016      1    WAS   NL  115  427  60   93  18  ...    \n",
      "102813  zobribe01    2016      1    CHN   NL  147  523  94  142  31  ...    \n",
      "102814  zuninmi01    2016      1    SEA   AL   55  164  16   34   7  ...    \n",
      "102815   zychto01    2016      1    SEA   AL   12    0   0    0   0  ...    \n",
      "\n",
      "         RBI    SB   CS  BB     SO  IBB  HBP   SH   SF  GIDP  \n",
      "0        0.0   0.0  0.0   0    0.0  NaN  NaN  NaN  NaN   NaN  \n",
      "1       13.0   8.0  1.0   4    0.0  NaN  NaN  NaN  NaN   NaN  \n",
      "2       19.0   3.0  1.0   2    5.0  NaN  NaN  NaN  NaN   NaN  \n",
      "3       27.0   1.0  1.0   0    2.0  NaN  NaN  NaN  NaN   NaN  \n",
      "4       16.0   6.0  2.0   2    1.0  NaN  NaN  NaN  NaN   NaN  \n",
      "5        5.0   0.0  1.0   0    1.0  NaN  NaN  NaN  NaN   NaN  \n",
      "6        2.0   0.0  0.0   1    0.0  NaN  NaN  NaN  NaN   NaN  \n",
      "7       34.0  11.0  6.0  13    1.0  NaN  NaN  NaN  NaN   NaN  \n",
      "8        1.0   0.0  0.0   0    0.0  NaN  NaN  NaN  NaN   NaN  \n",
      "9       11.0   1.0  0.0   0    0.0  NaN  NaN  NaN  NaN   NaN  \n",
      "10      18.0   0.0  1.0   3    4.0  NaN  NaN  NaN  NaN   NaN  \n",
      "11       0.0   0.0  0.0   1    0.0  NaN  NaN  NaN  NaN   NaN  \n",
      "12       1.0   2.0  0.0   2    0.0  NaN  NaN  NaN  NaN   NaN  \n",
      "13       5.0   2.0  0.0   0    0.0  NaN  NaN  NaN  NaN   NaN  \n",
      "14      21.0   4.0  0.0   2    2.0  NaN  NaN  NaN  NaN   NaN  \n",
      "15      23.0   4.0  4.0   9    2.0  NaN  NaN  NaN  NaN   NaN  \n",
      "16       0.0   0.0  0.0   0    3.0  NaN  NaN  NaN  NaN   NaN  \n",
      "17       0.0   0.0  0.0   0    0.0  NaN  NaN  NaN  NaN   NaN  \n",
      "18       8.0   3.0  1.0   4    2.0  NaN  NaN  NaN  NaN   NaN  \n",
      "19       0.0   0.0  0.0   1    0.0  NaN  NaN  NaN  NaN   NaN  \n",
      "20      13.0   1.0  0.0   3    2.0  NaN  NaN  NaN  NaN   NaN  \n",
      "21      24.0   6.0  0.0   4    4.0  NaN  NaN  NaN  NaN   NaN  \n",
      "22      21.0   4.0  0.0   7    2.0  NaN  NaN  NaN  NaN   NaN  \n",
      "23       0.0   0.0  0.0   0    0.0  NaN  NaN  NaN  NaN   NaN  \n",
      "24      14.0   0.0  0.0   1    1.0  NaN  NaN  NaN  NaN   NaN  \n",
      "25      10.0   5.0  0.0   2    1.0  NaN  NaN  NaN  NaN   NaN  \n",
      "26      18.0   2.0  1.0   8    3.0  NaN  NaN  NaN  NaN   NaN  \n",
      "27      16.0  12.0  1.0   8    2.0  NaN  NaN  NaN  NaN   NaN  \n",
      "28       2.0   0.0  0.0   0    0.0  NaN  NaN  NaN  NaN   NaN  \n",
      "29      26.0   6.0  3.0   3    0.0  NaN  NaN  NaN  NaN   NaN  \n",
      "...      ...   ...  ...  ..    ...  ...  ...  ...  ...   ...  \n",
      "102786   0.0   0.0  0.0   0    0.0  0.0  0.0  0.0  0.0   0.0  \n",
      "102787  30.0   4.0  1.0  21   53.0  2.0  0.0  4.0  0.0   1.0  \n",
      "102788  23.0   7.0  0.0  34   52.0  2.0  9.0  0.0  5.0   3.0  \n",
      "102789   2.0   0.0  0.0   1    9.0  0.0  0.0  2.0  0.0   0.0  \n",
      "102790   0.0   0.0  0.0   0    2.0  0.0  0.0  0.0  0.0   0.0  \n",
      "102791   1.0   0.0  0.0   1    5.0  0.0  0.0  0.0  0.0   0.0  \n",
      "102792   0.0   0.0  0.0   0    0.0  0.0  0.0  0.0  0.0   0.0  \n",
      "102793   1.0   0.0  0.0   1    6.0  0.0  0.0  0.0  0.0   1.0  \n",
      "102794  14.0   3.0  2.0  26   55.0  0.0  0.0  0.0  0.0   0.0  \n",
      "102795   0.0   0.0  0.0   0    2.0  0.0  0.0  1.0  0.0   0.0  \n",
      "102796   0.0   0.0  0.0   0    0.0  0.0  0.0  0.0  0.0   0.0  \n",
      "102797   0.0   0.0  0.0   0    0.0  0.0  0.0  0.0  0.0   0.0  \n",
      "102798   0.0   0.0  0.0   0    3.0  0.0  0.0  0.0  0.0   0.0  \n",
      "102799   0.0   0.0  0.0   0    0.0  0.0  0.0  0.0  0.0   0.0  \n",
      "102800  98.0   9.0  4.0  72  138.0  4.0  4.0  0.0  5.0  20.0  \n",
      "102801   0.0   0.0  0.0   0    0.0  0.0  0.0  0.0  0.0   0.0  \n",
      "102802   0.0   0.0  0.0   0    0.0  0.0  0.0  0.0  0.0   0.0  \n",
      "102803   0.0   0.0  0.0   0    2.0  0.0  0.0  0.0  0.0   0.0  \n",
      "102804   0.0   0.0  0.0   0    0.0  0.0  0.0  0.0  0.0   0.0  \n",
      "102805  24.0   4.0  2.0  21   50.0  0.0  3.0  0.0  0.0   4.0  \n",
      "102806   0.0   1.0  0.0   0    0.0  0.0  0.0  0.0  0.0   0.0  \n",
      "102807   0.0   0.0  0.0   0    0.0  0.0  0.0  0.0  0.0   0.0  \n",
      "102808   0.0   0.0  0.0   0    2.0  0.0  0.0  0.0  0.0   0.0  \n",
      "102809   0.0   0.0  0.0   0    0.0  0.0  0.0  0.0  0.0   0.0  \n",
      "102810   0.0   0.0  0.0   0    0.0  0.0  0.0  0.0  0.0   0.0  \n",
      "102811   0.0   0.0  0.0   0    2.0  0.0  0.0  1.0  0.0   0.0  \n",
      "102812  46.0   4.0  1.0  29  104.0  1.0  5.0  0.0  6.0  12.0  \n",
      "102813  76.0   6.0  4.0  96   82.0  6.0  4.0  4.0  4.0  17.0  \n",
      "102814  31.0   0.0  0.0  21   65.0  0.0  6.0  0.0  1.0   0.0  \n",
      "102815   0.0   0.0  0.0   0    0.0  0.0  0.0  0.0  0.0   0.0  \n",
      "\n",
      "[102816 rows x 22 columns]\n"
     ]
    }
   ],
   "source": [
    "df = pd.read_csv(file)\n",
    "\n",
    "print(df)"
   ]
  },
  {
   "cell_type": "code",
   "execution_count": 8,
   "metadata": {},
   "outputs": [
    {
     "data": {
      "text/plain": [
       "Index(['playerID', 'yearID', 'stint', 'teamID', 'lgID', 'G', 'AB', 'R', 'H',\n",
       "       '2B', '3B', 'HR', 'RBI', 'SB', 'CS', 'BB', 'SO', 'IBB', 'HBP', 'SH',\n",
       "       'SF', 'GIDP'],\n",
       "      dtype='object')"
      ]
     },
     "execution_count": 8,
     "metadata": {},
     "output_type": "execute_result"
    }
   ],
   "source": [
    "df.columns"
   ]
  },
  {
   "cell_type": "code",
   "execution_count": null,
   "metadata": {},
   "outputs": [],
   "source": []
  }
 ],
 "metadata": {
  "kernelspec": {
   "display_name": "Python 3",
   "language": "python",
   "name": "python3"
  },
  "language_info": {
   "codemirror_mode": {
    "name": "ipython",
    "version": 3
   },
   "file_extension": ".py",
   "mimetype": "text/x-python",
   "name": "python",
   "nbconvert_exporter": "python",
   "pygments_lexer": "ipython3",
   "version": "3.6.5"
  }
 },
 "nbformat": 4,
 "nbformat_minor": 2
}
